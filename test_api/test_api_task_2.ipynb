{
 "cells": [
  {
   "cell_type": "code",
   "execution_count": 17,
   "id": "9d97e25b",
   "metadata": {},
   "outputs": [
    {
     "name": "stdout",
     "output_type": "stream",
     "text": [
      "version Python 3.10.5\n",
      "version Pandas 2.0.2\n",
      "version Requests 2.26.0\n"
     ]
    }
   ],
   "source": [
    "import requests\n",
    "import pandas as pd\n",
    "import json\n",
    "from pycoingecko import CoinGeckoAPI\n",
    "pd_v = pd.__version__\n",
    "python_v = !python -V\n",
    "print(\"version\", *python_v)\n",
    "print(\"version Pandas\", pd_v)\n",
    "print(\"version Requests\", requests.__version__)\n",
    "# dir(CoinGeckoAPI)"
   ]
  },
  {
   "cell_type": "markdown",
   "id": "6e6d9ee7",
   "metadata": {},
   "source": [
    "**Входные данные**"
   ]
  },
  {
   "cell_type": "code",
   "execution_count": 3,
   "id": "26b03a0d",
   "metadata": {},
   "outputs": [],
   "source": [
    "### First API\n",
    "url_1 = 'https://api.wazirx.com/sapi/v1/tickers/24hr'"
   ]
  },
  {
   "cell_type": "code",
   "execution_count": 4,
   "id": "983f4c20",
   "metadata": {},
   "outputs": [],
   "source": [
    "### Second API\n",
    "url_2 = 'https://api2.binance.com/api/v3/ticker/24hr'"
   ]
  },
  {
   "cell_type": "code",
   "execution_count": 10,
   "id": "d93f401f",
   "metadata": {},
   "outputs": [],
   "source": [
    "### Third API\n",
    "cg = CoinGeckoAPI()"
   ]
  },
  {
   "cell_type": "markdown",
   "id": "8e441d7c",
   "metadata": {},
   "source": [
    "**Решение**"
   ]
  },
  {
   "cell_type": "code",
   "execution_count": 8,
   "id": "22d0c23a",
   "metadata": {},
   "outputs": [
    {
     "data": {
      "text/plain": [
       "200"
      ]
     },
     "execution_count": 8,
     "metadata": {},
     "output_type": "execute_result"
    }
   ],
   "source": [
    "response_1 = requests.get(url_1)\n",
    "response_1.status_code"
   ]
  },
  {
   "cell_type": "code",
   "execution_count": 9,
   "id": "23e7231d",
   "metadata": {},
   "outputs": [
    {
     "data": {
      "text/plain": [
       "200"
      ]
     },
     "execution_count": 9,
     "metadata": {},
     "output_type": "execute_result"
    }
   ],
   "source": [
    "response_2 = requests.get(url_2)\n",
    "response_2.status_code"
   ]
  },
  {
   "cell_type": "code",
   "execution_count": null,
   "id": "f4a97500",
   "metadata": {},
   "outputs": [],
   "source": []
  },
  {
   "cell_type": "code",
   "execution_count": null,
   "id": "fe13e1c8",
   "metadata": {},
   "outputs": [],
   "source": []
  },
  {
   "cell_type": "code",
   "execution_count": null,
   "id": "9e41f5d7",
   "metadata": {},
   "outputs": [],
   "source": []
  }
 ],
 "metadata": {
  "kernelspec": {
   "display_name": "Python 3 (ipykernel)",
   "language": "python",
   "name": "python3"
  },
  "language_info": {
   "codemirror_mode": {
    "name": "ipython",
    "version": 3
   },
   "file_extension": ".py",
   "mimetype": "text/x-python",
   "name": "python",
   "nbconvert_exporter": "python",
   "pygments_lexer": "ipython3",
   "version": "3.10.5"
  }
 },
 "nbformat": 4,
 "nbformat_minor": 5
}
