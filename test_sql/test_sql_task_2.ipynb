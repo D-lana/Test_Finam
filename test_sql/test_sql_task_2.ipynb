{
 "cells": [
  {
   "cell_type": "code",
   "execution_count": 2,
   "id": "01e02797",
   "metadata": {},
   "outputs": [
    {
     "name": "stdout",
     "output_type": "stream",
     "text": [
      "version Python 3.10.5\n",
      "version Pandas 2.0.2\n"
     ]
    }
   ],
   "source": [
    "import sqlite3\n",
    "import pandas as pd\n",
    "pd_v = pd.__version__\n",
    "python_v = !python -V\n",
    "print(\"version\", *python_v)\n",
    "print(\"version Pandas\", pd_v)"
   ]
  },
  {
   "cell_type": "markdown",
   "id": "de29f01e",
   "metadata": {},
   "source": [
    "**Входные данные**"
   ]
  },
  {
   "cell_type": "code",
   "execution_count": 8,
   "id": "7ef2f4ef",
   "metadata": {},
   "outputs": [],
   "source": [
    "sqlite_connection = sqlite3.connect('test.db')"
   ]
  },
  {
   "cell_type": "markdown",
   "id": "ca63f0a1",
   "metadata": {},
   "source": [
    "**Решение**"
   ]
  },
  {
   "cell_type": "code",
   "execution_count": 9,
   "id": "c98326cb",
   "metadata": {},
   "outputs": [],
   "source": [
    "# Сохранение данных в датафрейм\n",
    "df = pd.read_sql(\n",
    "    \"\"\"SELECT \n",
    "        employee_id,\n",
    "        first_name,\n",
    "        last_name,\n",
    "        coalesce(manager_id, 0) manager_id  \n",
    "    FROM employee e;\"\"\", \\\n",
    "    sqlite_connection)"
   ]
  },
  {
   "cell_type": "code",
   "execution_count": 10,
   "id": "880a43a2",
   "metadata": {},
   "outputs": [
    {
     "data": {
      "text/html": [
       "<div>\n",
       "<style scoped>\n",
       "    .dataframe tbody tr th:only-of-type {\n",
       "        vertical-align: middle;\n",
       "    }\n",
       "\n",
       "    .dataframe tbody tr th {\n",
       "        vertical-align: top;\n",
       "    }\n",
       "\n",
       "    .dataframe thead th {\n",
       "        text-align: right;\n",
       "    }\n",
       "</style>\n",
       "<table border=\"1\" class=\"dataframe\">\n",
       "  <thead>\n",
       "    <tr style=\"text-align: right;\">\n",
       "      <th></th>\n",
       "      <th>employee_id</th>\n",
       "      <th>first_name</th>\n",
       "      <th>last_name</th>\n",
       "      <th>count_managers</th>\n",
       "    </tr>\n",
       "  </thead>\n",
       "  <tbody>\n",
       "    <tr>\n",
       "      <th>5</th>\n",
       "      <td>6</td>\n",
       "      <td>Светлана</td>\n",
       "      <td>Немцова</td>\n",
       "      <td>0</td>\n",
       "    </tr>\n",
       "    <tr>\n",
       "      <th>39</th>\n",
       "      <td>44</td>\n",
       "      <td>Эдуард</td>\n",
       "      <td>Рогов</td>\n",
       "      <td>2</td>\n",
       "    </tr>\n",
       "    <tr>\n",
       "      <th>14</th>\n",
       "      <td>15</td>\n",
       "      <td>Эрик</td>\n",
       "      <td>Картман</td>\n",
       "      <td>1</td>\n",
       "    </tr>\n",
       "    <tr>\n",
       "      <th>32</th>\n",
       "      <td>33</td>\n",
       "      <td>Лилия</td>\n",
       "      <td>Леонтьева</td>\n",
       "      <td>2</td>\n",
       "    </tr>\n",
       "    <tr>\n",
       "      <th>25</th>\n",
       "      <td>26</td>\n",
       "      <td>Наталия</td>\n",
       "      <td>Потапова</td>\n",
       "      <td>1</td>\n",
       "    </tr>\n",
       "    <tr>\n",
       "      <th>1</th>\n",
       "      <td>2</td>\n",
       "      <td>Кенни</td>\n",
       "      <td>Маккормик</td>\n",
       "      <td>0</td>\n",
       "    </tr>\n",
       "    <tr>\n",
       "      <th>9</th>\n",
       "      <td>10</td>\n",
       "      <td>Влад</td>\n",
       "      <td>Контур</td>\n",
       "      <td>0</td>\n",
       "    </tr>\n",
       "    <tr>\n",
       "      <th>15</th>\n",
       "      <td>16</td>\n",
       "      <td>Николай</td>\n",
       "      <td>Воробьёв</td>\n",
       "      <td>1</td>\n",
       "    </tr>\n",
       "    <tr>\n",
       "      <th>36</th>\n",
       "      <td>41</td>\n",
       "      <td>Любомир</td>\n",
       "      <td>Ефремов</td>\n",
       "      <td>2</td>\n",
       "    </tr>\n",
       "    <tr>\n",
       "      <th>23</th>\n",
       "      <td>24</td>\n",
       "      <td>Марина</td>\n",
       "      <td>Кондратьева</td>\n",
       "      <td>1</td>\n",
       "    </tr>\n",
       "  </tbody>\n",
       "</table>\n",
       "</div>"
      ],
      "text/plain": [
       "    employee_id first_name    last_name  count_managers\n",
       "5             6   Светлана      Немцова               0\n",
       "39           44     Эдуард        Рогов               2\n",
       "14           15       Эрик      Картман               1\n",
       "32           33      Лилия    Леонтьева               2\n",
       "25           26    Наталия     Потапова               1\n",
       "1             2      Кенни    Маккормик               0\n",
       "9            10       Влад       Контур               0\n",
       "15           16    Николай     Воробьёв               1\n",
       "36           41    Любомир      Ефремов               2\n",
       "23           24     Марина  Кондратьева               1"
      ]
     },
     "execution_count": 10,
     "metadata": {},
     "output_type": "execute_result"
    }
   ],
   "source": [
    "# Проходимся по каждому менеджеру менеджера пока не дойдем до 0\n",
    "df['count_managers'] = 0\n",
    "\n",
    "for i in range(len(df)):\n",
    "    j = i\n",
    "    while df.iloc[j]['manager_id'] > 0:\n",
    "        df.at[i, 'count_managers'] += 1\n",
    "        j = df.iloc[j]['manager_id']\n",
    "        \n",
    "df.drop(columns=['manager_id'], inplace=True)\n",
    "df.sample(10)"
   ]
  },
  {
   "cell_type": "code",
   "execution_count": null,
   "id": "883c4da9",
   "metadata": {},
   "outputs": [],
   "source": []
  }
 ],
 "metadata": {
  "kernelspec": {
   "display_name": "Python 3 (ipykernel)",
   "language": "python",
   "name": "python3"
  },
  "language_info": {
   "codemirror_mode": {
    "name": "ipython",
    "version": 3
   },
   "file_extension": ".py",
   "mimetype": "text/x-python",
   "name": "python",
   "nbconvert_exporter": "python",
   "pygments_lexer": "ipython3",
   "version": "3.10.5"
  }
 },
 "nbformat": 4,
 "nbformat_minor": 5
}
