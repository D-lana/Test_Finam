{
 "cells": [
  {
   "cell_type": "code",
   "execution_count": 1,
   "id": "7ff86dff",
   "metadata": {},
   "outputs": [
    {
     "name": "stdout",
     "output_type": "stream",
     "text": [
      "Python 3.10.5\n"
     ]
    }
   ],
   "source": [
    "!python -V"
   ]
  },
  {
   "cell_type": "code",
   "execution_count": 2,
   "id": "01e02797",
   "metadata": {},
   "outputs": [
    {
     "data": {
      "text/plain": [
       "'2.0.2'"
      ]
     },
     "execution_count": 2,
     "metadata": {},
     "output_type": "execute_result"
    }
   ],
   "source": [
    "import sqlite3\n",
    "import pandas as pd\n",
    "pd.__version__"
   ]
  },
  {
   "cell_type": "code",
   "execution_count": 3,
   "id": "7ef2f4ef",
   "metadata": {},
   "outputs": [],
   "source": [
    "sqlite_connection = sqlite3.connect('test.db')"
   ]
  },
  {
   "cell_type": "code",
   "execution_count": 47,
   "id": "c98326cb",
   "metadata": {},
   "outputs": [],
   "source": [
    "#solution using pandas\n",
    "df = pd.read_sql(\n",
    "    \"\"\"SELECT \n",
    "        employee_id,\n",
    "        first_name,\n",
    "        last_name,\n",
    "        coalesce(manager_id, 0) manager_id  \n",
    "    FROM employee e;\"\"\", \\\n",
    "    sqlite_connection)"
   ]
  },
  {
   "cell_type": "code",
   "execution_count": 48,
   "id": "880a43a2",
   "metadata": {},
   "outputs": [
    {
     "data": {
      "text/html": [
       "<div>\n",
       "<style scoped>\n",
       "    .dataframe tbody tr th:only-of-type {\n",
       "        vertical-align: middle;\n",
       "    }\n",
       "\n",
       "    .dataframe tbody tr th {\n",
       "        vertical-align: top;\n",
       "    }\n",
       "\n",
       "    .dataframe thead th {\n",
       "        text-align: right;\n",
       "    }\n",
       "</style>\n",
       "<table border=\"1\" class=\"dataframe\">\n",
       "  <thead>\n",
       "    <tr style=\"text-align: right;\">\n",
       "      <th></th>\n",
       "      <th>employee_id</th>\n",
       "      <th>first_name</th>\n",
       "      <th>last_name</th>\n",
       "      <th>count_managers</th>\n",
       "    </tr>\n",
       "  </thead>\n",
       "  <tbody>\n",
       "    <tr>\n",
       "      <th>32</th>\n",
       "      <td>33</td>\n",
       "      <td>Лилия</td>\n",
       "      <td>Леонтьева</td>\n",
       "      <td>2</td>\n",
       "    </tr>\n",
       "    <tr>\n",
       "      <th>39</th>\n",
       "      <td>44</td>\n",
       "      <td>Эдуард</td>\n",
       "      <td>Рогов</td>\n",
       "      <td>2</td>\n",
       "    </tr>\n",
       "    <tr>\n",
       "      <th>0</th>\n",
       "      <td>1</td>\n",
       "      <td>Алексей</td>\n",
       "      <td>Иванов</td>\n",
       "      <td>0</td>\n",
       "    </tr>\n",
       "    <tr>\n",
       "      <th>10</th>\n",
       "      <td>11</td>\n",
       "      <td>Глеб</td>\n",
       "      <td>Тарасов</td>\n",
       "      <td>0</td>\n",
       "    </tr>\n",
       "    <tr>\n",
       "      <th>18</th>\n",
       "      <td>19</td>\n",
       "      <td>Зиновий</td>\n",
       "      <td>Белозёров</td>\n",
       "      <td>1</td>\n",
       "    </tr>\n",
       "    <tr>\n",
       "      <th>44</th>\n",
       "      <td>49</td>\n",
       "      <td>Виктор</td>\n",
       "      <td>Медведев</td>\n",
       "      <td>2</td>\n",
       "    </tr>\n",
       "    <tr>\n",
       "      <th>34</th>\n",
       "      <td>35</td>\n",
       "      <td>Терентий</td>\n",
       "      <td>Буров</td>\n",
       "      <td>2</td>\n",
       "    </tr>\n",
       "    <tr>\n",
       "      <th>35</th>\n",
       "      <td>40</td>\n",
       "      <td>Нина</td>\n",
       "      <td>Кондратьева</td>\n",
       "      <td>2</td>\n",
       "    </tr>\n",
       "    <tr>\n",
       "      <th>7</th>\n",
       "      <td>8</td>\n",
       "      <td>Петр</td>\n",
       "      <td>Корсаков</td>\n",
       "      <td>0</td>\n",
       "    </tr>\n",
       "    <tr>\n",
       "      <th>11</th>\n",
       "      <td>12</td>\n",
       "      <td>Владислав</td>\n",
       "      <td>Калашников</td>\n",
       "      <td>0</td>\n",
       "    </tr>\n",
       "  </tbody>\n",
       "</table>\n",
       "</div>"
      ],
      "text/plain": [
       "    employee_id first_name    last_name  count_managers\n",
       "32           33      Лилия    Леонтьева               2\n",
       "39           44     Эдуард        Рогов               2\n",
       "0             1    Алексей       Иванов               0\n",
       "10           11       Глеб      Тарасов               0\n",
       "18           19    Зиновий    Белозёров               1\n",
       "44           49     Виктор     Медведев               2\n",
       "34           35   Терентий        Буров               2\n",
       "35           40       Нина  Кондратьева               2\n",
       "7             8       Петр     Корсаков               0\n",
       "11           12  Владислав   Калашников               0"
      ]
     },
     "execution_count": 48,
     "metadata": {},
     "output_type": "execute_result"
    }
   ],
   "source": [
    "df['count_managers'] = 0\n",
    "\n",
    "for i in range(len(df)):\n",
    "    j = i\n",
    "    while df.iloc[j]['manager_id'] > 0:\n",
    "        df.at[i, 'count_managers'] += 1\n",
    "        j = df.iloc[j]['manager_id']\n",
    "        \n",
    "df.drop(columns=['manager_id'], inplace=True)\n",
    "df.sample(10)"
   ]
  },
  {
   "cell_type": "code",
   "execution_count": null,
   "id": "12220bbc",
   "metadata": {},
   "outputs": [],
   "source": [
    "# solution using sql\n",
    "df = pd.read_sql(\n",
    "    \"\"\"SELECT \n",
    "        employee_id,\n",
    "        first_name,\n",
    "        last_name,\n",
    "        coalesce(manager_id, 0) manager_id  \n",
    "    FROM employee e;\"\"\", \\\n",
    "    sqlite_connection)\n",
    "\n",
    "# WITH RECURSIVE temp (employee_id, manager_id, c) AS \n",
    "# (SELECT 0, manager_id, 0 FROM employee\n",
    "#   UNION ALL \n",
    "#  SELECT 0, manager_id, 0 FROM temp -- Рекурсивный подзапрос \n",
    "#         WHERE manager_id > c)\n",
    "# SELECT * FROM temp;"
   ]
  },
  {
   "cell_type": "code",
   "execution_count": null,
   "id": "883c4da9",
   "metadata": {},
   "outputs": [],
   "source": []
  }
 ],
 "metadata": {
  "kernelspec": {
   "display_name": "Python 3 (ipykernel)",
   "language": "python",
   "name": "python3"
  },
  "language_info": {
   "codemirror_mode": {
    "name": "ipython",
    "version": 3
   },
   "file_extension": ".py",
   "mimetype": "text/x-python",
   "name": "python",
   "nbconvert_exporter": "python",
   "pygments_lexer": "ipython3",
   "version": "3.10.5"
  }
 },
 "nbformat": 4,
 "nbformat_minor": 5
}
