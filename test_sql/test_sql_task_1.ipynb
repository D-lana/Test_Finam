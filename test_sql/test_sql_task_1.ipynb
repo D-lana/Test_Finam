{
 "cells": [
  {
   "cell_type": "code",
   "execution_count": 3,
   "id": "c339e54b",
   "metadata": {},
   "outputs": [
    {
     "name": "stdout",
     "output_type": "stream",
     "text": [
      "Python 3.10.5\n"
     ]
    }
   ],
   "source": [
    "!python -V"
   ]
  },
  {
   "cell_type": "code",
   "execution_count": 118,
   "id": "fecd4d83",
   "metadata": {},
   "outputs": [
    {
     "data": {
      "text/plain": [
       "'2.0.2'"
      ]
     },
     "execution_count": 118,
     "metadata": {},
     "output_type": "execute_result"
    }
   ],
   "source": [
    "import sqlite3\n",
    "import pandas as pd\n",
    "pd.__version__"
   ]
  },
  {
   "cell_type": "code",
   "execution_count": 119,
   "id": "199c6abc",
   "metadata": {},
   "outputs": [],
   "source": [
    "sqlite_connection = sqlite3.connect('test.db')"
   ]
  },
  {
   "cell_type": "markdown",
   "id": "e929d25e",
   "metadata": {},
   "source": [
    "Task 1 "
   ]
  },
  {
   "cell_type": "code",
   "execution_count": 115,
   "id": "4d4f2213",
   "metadata": {},
   "outputs": [
    {
     "name": "stdout",
     "output_type": "stream",
     "text": [
      "   product_id price_min price_max\n",
      "0           1   10500.0   12500.0\n",
      "1           2   26100.0   27500.0\n",
      "2           3   22000.0   22900.0\n",
      "3           4   20000.0   22000.0\n",
      "4           5   23500.0   24600.0\n",
      "5           6   17800.0   17900.0\n",
      "6           8   37000.0   38300.0\n",
      "7           9   43800.0   44500.0\n",
      "8          10   75600.0   76800.0\n"
     ]
    }
   ],
   "source": [
    "# with verification\n",
    "try:\n",
    "    df = pd.read_sql(\n",
    "        \"\"\"SELECT \n",
    "            product_id,\n",
    "            cast(min(price) as text) as price_min,\n",
    "            cast(max(price) as text) as price_max\n",
    "        FROM product_price\n",
    "        group by product_id\n",
    "        having cast(min(price) as text) != cast(max(price) as text)\n",
    "        order by product_id;\"\"\", \\\n",
    "                sqlite_connection)\n",
    "    print(df)\n",
    "except Exception as e:\n",
    "    print(\"Error!\", e)"
   ]
  },
  {
   "cell_type": "code",
   "execution_count": 116,
   "id": "0f61dbaa",
   "metadata": {},
   "outputs": [
    {
     "data": {
      "text/html": [
       "<div>\n",
       "<style scoped>\n",
       "    .dataframe tbody tr th:only-of-type {\n",
       "        vertical-align: middle;\n",
       "    }\n",
       "\n",
       "    .dataframe tbody tr th {\n",
       "        vertical-align: top;\n",
       "    }\n",
       "\n",
       "    .dataframe thead th {\n",
       "        text-align: right;\n",
       "    }\n",
       "</style>\n",
       "<table border=\"1\" class=\"dataframe\">\n",
       "  <thead>\n",
       "    <tr style=\"text-align: right;\">\n",
       "      <th></th>\n",
       "      <th>product_id</th>\n",
       "      <th>price_min</th>\n",
       "      <th>price_max</th>\n",
       "    </tr>\n",
       "  </thead>\n",
       "  <tbody>\n",
       "    <tr>\n",
       "      <th>0</th>\n",
       "      <td>1</td>\n",
       "      <td>10500.0</td>\n",
       "      <td>12500.0</td>\n",
       "    </tr>\n",
       "    <tr>\n",
       "      <th>1</th>\n",
       "      <td>2</td>\n",
       "      <td>26100.0</td>\n",
       "      <td>27500.0</td>\n",
       "    </tr>\n",
       "    <tr>\n",
       "      <th>2</th>\n",
       "      <td>3</td>\n",
       "      <td>22000.0</td>\n",
       "      <td>22900.0</td>\n",
       "    </tr>\n",
       "    <tr>\n",
       "      <th>3</th>\n",
       "      <td>4</td>\n",
       "      <td>20000.0</td>\n",
       "      <td>22000.0</td>\n",
       "    </tr>\n",
       "    <tr>\n",
       "      <th>4</th>\n",
       "      <td>5</td>\n",
       "      <td>23500.0</td>\n",
       "      <td>24600.0</td>\n",
       "    </tr>\n",
       "    <tr>\n",
       "      <th>5</th>\n",
       "      <td>6</td>\n",
       "      <td>17800.0</td>\n",
       "      <td>17900.0</td>\n",
       "    </tr>\n",
       "    <tr>\n",
       "      <th>6</th>\n",
       "      <td>8</td>\n",
       "      <td>37000.0</td>\n",
       "      <td>38300.0</td>\n",
       "    </tr>\n",
       "    <tr>\n",
       "      <th>7</th>\n",
       "      <td>9</td>\n",
       "      <td>43800.0</td>\n",
       "      <td>44500.0</td>\n",
       "    </tr>\n",
       "    <tr>\n",
       "      <th>8</th>\n",
       "      <td>10</td>\n",
       "      <td>75600.0</td>\n",
       "      <td>76800.0</td>\n",
       "    </tr>\n",
       "  </tbody>\n",
       "</table>\n",
       "</div>"
      ],
      "text/plain": [
       "   product_id price_min price_max\n",
       "0           1   10500.0   12500.0\n",
       "1           2   26100.0   27500.0\n",
       "2           3   22000.0   22900.0\n",
       "3           4   20000.0   22000.0\n",
       "4           5   23500.0   24600.0\n",
       "5           6   17800.0   17900.0\n",
       "6           8   37000.0   38300.0\n",
       "7           9   43800.0   44500.0\n",
       "8          10   75600.0   76800.0"
      ]
     },
     "execution_count": 116,
     "metadata": {},
     "output_type": "execute_result"
    }
   ],
   "source": [
    "# without verification\n",
    "pd.read_sql(\n",
    "    \"\"\"SELECT \n",
    "        product_id,\n",
    "        cast(min(price) as text) as price_min,\n",
    "        cast(max(price) as text) as price_max\n",
    "    FROM product_price\n",
    "    group by product_id\n",
    "    having cast(min(price) as text) != cast(max(price) as text)\n",
    "    order by product_id;\"\"\", \\\n",
    "           sqlite_connection)"
   ]
  },
  {
   "cell_type": "code",
   "execution_count": 117,
   "id": "7248dc14",
   "metadata": {},
   "outputs": [
    {
     "name": "stdout",
     "output_type": "stream",
     "text": [
      "Connection was closed\n"
     ]
    }
   ],
   "source": [
    "sqlite_connection.close()\n",
    "print(\"Connection was closed\")"
   ]
  },
  {
   "cell_type": "code",
   "execution_count": null,
   "id": "12014914",
   "metadata": {},
   "outputs": [],
   "source": []
  }
 ],
 "metadata": {
  "kernelspec": {
   "display_name": "Python 3 (ipykernel)",
   "language": "python",
   "name": "python3"
  },
  "language_info": {
   "codemirror_mode": {
    "name": "ipython",
    "version": 3
   },
   "file_extension": ".py",
   "mimetype": "text/x-python",
   "name": "python",
   "nbconvert_exporter": "python",
   "pygments_lexer": "ipython3",
   "version": "3.10.5"
  }
 },
 "nbformat": 4,
 "nbformat_minor": 5
}
